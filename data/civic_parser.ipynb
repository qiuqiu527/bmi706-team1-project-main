{
 "cells": [
  {
   "cell_type": "code",
   "execution_count": 2,
   "id": "694d6509",
   "metadata": {},
   "outputs": [],
   "source": [
    "import pandas as pd"
   ]
  },
  {
   "cell_type": "code",
   "execution_count": 3,
   "id": "fcf73571",
   "metadata": {},
   "outputs": [],
   "source": [
    "'''\n",
    "Read 2017-2023 clinical evidence summaries\n",
    "'''\n",
    "\n",
    "# replace the character \\x{0D} to space manually for clinEvi2017.tsv\n",
    "clinEvs = [pd.read_csv(r'civic/01-Jan-' + str(year) + '-ClinicalEvidenceSummaries.tsv', sep='\\t') \n",
    "              for year in range(2017,2024)]"
   ]
  },
  {
   "cell_type": "code",
   "execution_count": 4,
   "id": "b2d8ef8e",
   "metadata": {},
   "outputs": [],
   "source": [
    "'''\n",
    "Parse 2017-2023 files\n",
    "'''\n",
    "\n",
    "col_name = list(clinEvs[0].columns)\n",
    "col_name.append('year')\n",
    "col_name.remove('pubmed_id')\n",
    "\n",
    "for i in range(0, 7):\n",
    "    clinEvs[i]['year'] = 2017+i\n",
    "    clinEvs[i] = clinEvs[i][col_name]"
   ]
  },
  {
   "cell_type": "code",
   "execution_count": 7,
   "id": "a4cade4e",
   "metadata": {},
   "outputs": [
    {
     "data": {
      "text/plain": [
       "Index(['gene', 'entrez_id', 'variant', 'disease', 'doid', 'drugs',\n",
       "       'evidence_type', 'evidence_direction', 'evidence_level',\n",
       "       'clinical_significance', 'evidence_statement', 'citation', 'rating',\n",
       "       'evidence_status', 'evidence_id', 'variant_id', 'gene_id', 'chromosome',\n",
       "       'start', 'stop', 'reference_bases', 'variant_bases',\n",
       "       'representative_transcript', 'chromosome2', 'start2', 'stop2',\n",
       "       'representative_transcript2', 'ensembl_version', 'reference_build',\n",
       "       'variant_summary', 'variant_origin', 'evidence_civic_url',\n",
       "       'variant_civic_url', 'gene_civic_url', 'year'],\n",
       "      dtype='object')"
      ]
     },
     "execution_count": 7,
     "metadata": {},
     "output_type": "execute_result"
    }
   ],
   "source": [
    "clinEvs[0].columns"
   ]
  },
  {
   "cell_type": "code",
   "execution_count": 12,
   "id": "2e2fb9f0",
   "metadata": {},
   "outputs": [],
   "source": [
    "'''\n",
    "Get unique rows without year\n",
    "'''\n",
    "unique = pd.concat(clinEvs).drop_duplicates(\n",
    "    subset=[\"entrez_id\", \"doid\",'evidence_id', 'variant_id', 'gene_id'], keep=False)\n",
    "unique.to_csv('civic_data_unique.tsv')"
   ]
  },
  {
   "cell_type": "code",
   "execution_count": 5,
   "id": "753b7bdf",
   "metadata": {},
   "outputs": [],
   "source": [
    "'''\n",
    "Write the parsed file\n",
    "'''\n",
    "pd.concat(clinEvs).to_csv('civic_data.tsv')"
   ]
  }
 ],
 "metadata": {
  "kernelspec": {
   "display_name": "Python 3 (ipykernel)",
   "language": "python",
   "name": "python3"
  },
  "language_info": {
   "codemirror_mode": {
    "name": "ipython",
    "version": 3
   },
   "file_extension": ".py",
   "mimetype": "text/x-python",
   "name": "python",
   "nbconvert_exporter": "python",
   "pygments_lexer": "ipython3",
   "version": "3.9.12"
  }
 },
 "nbformat": 4,
 "nbformat_minor": 5
}
